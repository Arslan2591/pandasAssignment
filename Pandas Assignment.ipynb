{
 "cells": [
  {
   "cell_type": "code",
   "execution_count": 16,
   "id": "fe78ce6c",
   "metadata": {},
   "outputs": [],
   "source": [
    "import pandas as pd\n",
    "import numpy as np\n",
    "import matplotlib.pyplot as plt\n",
    "import glob "
   ]
  },
  {
   "cell_type": "code",
   "execution_count": 18,
   "id": "c4b5b7b6",
   "metadata": {},
   "outputs": [],
   "source": [
    "# Read all 9 csv files\n",
    "census_files = glob.glob('./Data/states*.csv')\n",
    "\n",
    "df_list = []\n",
    "for filename in census_files:\n",
    "  data = pd.read_csv(filename)\n",
    "  df_list.append(data)\n",
    "us_census = pd.concat(df_list,  ignore_index=True)"
   ]
  },
  {
   "cell_type": "code",
   "execution_count": 19,
   "id": "902dc959",
   "metadata": {},
   "outputs": [
    {
     "name": "stdout",
     "output_type": "stream",
     "text": [
      "Index(['State', 'TotalPop', 'Hispanic', 'White', 'Black', 'Native', 'Asian',\n",
      "       'Pacific', 'Income', 'GenderPop'],\n",
      "      dtype='object')\n",
      "State        object\n",
      "TotalPop      int64\n",
      "Hispanic     object\n",
      "White        object\n",
      "Black        object\n",
      "Native       object\n",
      "Asian        object\n",
      "Pacific      object\n",
      "Income       object\n",
      "GenderPop    object\n",
      "dtype: object\n",
      "        State  TotalPop             Hispanic                White  \\\n",
      "0     Alabama   4830620  3.7516156462584975%     61.878656462585%   \n",
      "1      Alaska    733375   5.909580838323351%  60.910179640718574%   \n",
      "2     Arizona   6641928  29.565921052631502%  57.120000000000026%   \n",
      "3    Arkansas   2958208   6.215474452554738%   71.13781021897813%   \n",
      "4  California  38421464  37.291874687968054%   40.21578881677474%   \n",
      "\n",
      "                 Black                Native                Asian  \\\n",
      "0   31.25297619047618%   0.4532312925170065%  1.0502551020408146%   \n",
      "1  2.8485029940119775%    16.39101796407186%   5.450299401197604%   \n",
      "2  3.8509868421052658%     4.35506578947368%   2.876578947368419%   \n",
      "3  18.968759124087573%   0.5229197080291965%  1.1423357664233578%   \n",
      "4   5.677396405391911%  0.40529206190713685%  13.052234148776776%   \n",
      "\n",
      "                Pacific              Income            GenderPop  \n",
      "0  0.03435374149659865%  $43296.35860306644    2341093M_2489527F  \n",
      "1   1.0586826347305378%  $70354.74390243902      384160M_349215F  \n",
      "2  0.16763157894736833%  $54207.82095490716    3299088M_3342840F  \n",
      "3  0.14686131386861315%  $41935.63396778917    1451913M_1506295F  \n",
      "4  0.35141038442336353%  $67264.78230266465  19087135M_19334329F  \n"
     ]
    }
   ],
   "source": [
    "#Useless column and interfeeres with the drop duplicates\n",
    "us_census.drop('Unnamed: 0', inplace=True, axis=1)\n",
    "print(us_census.columns)\n",
    "print(us_census.dtypes)\n",
    "print(us_census.head())"
   ]
  },
  {
   "cell_type": "code",
   "execution_count": 20,
   "id": "20928b5e",
   "metadata": {},
   "outputs": [],
   "source": [
    "# Clean the income column (remove the $) and convert it into a number\n",
    "us_census['Income'] = us_census['Income'].replace('[\\$,]', '', regex=True)\n",
    "us_census['Income'] = pd.to_numeric(us_census.Income)"
   ]
  },
  {
   "cell_type": "code",
   "execution_count": 21,
   "id": "bd91297c",
   "metadata": {},
   "outputs": [
    {
     "name": "stdout",
     "output_type": "stream",
     "text": [
      "0    43296.358603\n",
      "1    70354.743902\n",
      "2    54207.820955\n",
      "3    41935.633968\n",
      "4    67264.782303\n",
      "Name: Income, dtype: float64\n"
     ]
    }
   ],
   "source": [
    "print(us_census.Income.head())"
   ]
  },
  {
   "cell_type": "code",
   "execution_count": 22,
   "id": "488cd845",
   "metadata": {},
   "outputs": [
    {
     "name": "stdout",
     "output_type": "stream",
     "text": [
      "        State  TotalPop             Hispanic                White  \\\n",
      "0     Alabama   4830620  3.7516156462584975%     61.878656462585%   \n",
      "1      Alaska    733375   5.909580838323351%  60.910179640718574%   \n",
      "2     Arizona   6641928  29.565921052631502%  57.120000000000026%   \n",
      "3    Arkansas   2958208   6.215474452554738%   71.13781021897813%   \n",
      "4  California  38421464  37.291874687968054%   40.21578881677474%   \n",
      "\n",
      "                 Black                Native                Asian  \\\n",
      "0   31.25297619047618%   0.4532312925170065%  1.0502551020408146%   \n",
      "1  2.8485029940119775%    16.39101796407186%   5.450299401197604%   \n",
      "2  3.8509868421052658%     4.35506578947368%   2.876578947368419%   \n",
      "3  18.968759124087573%   0.5229197080291965%  1.1423357664233578%   \n",
      "4   5.677396405391911%  0.40529206190713685%  13.052234148776776%   \n",
      "\n",
      "                Pacific        Income            GenderPop        Men  \\\n",
      "0  0.03435374149659865%  43296.358603    2341093M_2489527F   2341093M   \n",
      "1   1.0586826347305378%  70354.743902      384160M_349215F    384160M   \n",
      "2  0.16763157894736833%  54207.820955    3299088M_3342840F   3299088M   \n",
      "3  0.14686131386861315%  41935.633968    1451913M_1506295F   1451913M   \n",
      "4  0.35141038442336353%  67264.782303  19087135M_19334329F  19087135M   \n",
      "\n",
      "       Women  \n",
      "0   2489527F  \n",
      "1    349215F  \n",
      "2   3342840F  \n",
      "3   1506295F  \n",
      "4  19334329F  \n"
     ]
    }
   ],
   "source": [
    "# Split Men and Women population\n",
    "us_census['Men'] = us_census['GenderPop'].str.split('(_)', expand=True)[0]\n",
    "us_census['Women'] = us_census['GenderPop'].str.split('(_)', expand=True)[2]\n",
    "print(us_census.head())"
   ]
  },
  {
   "cell_type": "code",
   "execution_count": 23,
   "id": "c8a6aa8e",
   "metadata": {},
   "outputs": [],
   "source": [
    "# Remove the M of F character from the Men and Women's columns \n",
    "us_census['Men'] = us_census['Men'].replace('[M,]', '', regex=True)\n",
    "us_census['Women'] = us_census['Women'].replace('[F,]', '', regex=True)"
   ]
  },
  {
   "cell_type": "code",
   "execution_count": 24,
   "id": "9a8ef340",
   "metadata": {},
   "outputs": [
    {
     "name": "stdout",
     "output_type": "stream",
     "text": [
      "        State  TotalPop             Hispanic                White  \\\n",
      "0     Alabama   4830620  3.7516156462584975%     61.878656462585%   \n",
      "1      Alaska    733375   5.909580838323351%  60.910179640718574%   \n",
      "2     Arizona   6641928  29.565921052631502%  57.120000000000026%   \n",
      "3    Arkansas   2958208   6.215474452554738%   71.13781021897813%   \n",
      "4  California  38421464  37.291874687968054%   40.21578881677474%   \n",
      "\n",
      "                 Black                Native                Asian  \\\n",
      "0   31.25297619047618%   0.4532312925170065%  1.0502551020408146%   \n",
      "1  2.8485029940119775%    16.39101796407186%   5.450299401197604%   \n",
      "2  3.8509868421052658%     4.35506578947368%   2.876578947368419%   \n",
      "3  18.968759124087573%   0.5229197080291965%  1.1423357664233578%   \n",
      "4   5.677396405391911%  0.40529206190713685%  13.052234148776776%   \n",
      "\n",
      "                Pacific        Income            GenderPop       Men  \\\n",
      "0  0.03435374149659865%  43296.358603    2341093M_2489527F   2341093   \n",
      "1   1.0586826347305378%  70354.743902      384160M_349215F    384160   \n",
      "2  0.16763157894736833%  54207.820955    3299088M_3342840F   3299088   \n",
      "3  0.14686131386861315%  41935.633968    1451913M_1506295F   1451913   \n",
      "4  0.35141038442336353%  67264.782303  19087135M_19334329F  19087135   \n",
      "\n",
      "        Women  \n",
      "0   2489527.0  \n",
      "1    349215.0  \n",
      "2   3342840.0  \n",
      "3   1506295.0  \n",
      "4  19334329.0  \n"
     ]
    }
   ],
   "source": [
    "# Convert the Men and Women columns into a number\n",
    "us_census['Men'] = pd.to_numeric(us_census.Men)\n",
    "us_census['Women'] = pd.to_numeric(us_census.Women)\n",
    "print(us_census.head())"
   ]
  },
  {
   "cell_type": "code",
   "execution_count": 25,
   "id": "eed391da",
   "metadata": {},
   "outputs": [
    {
     "data": {
      "image/png": "[encoded data removed]",
      "text/plain": [
       "<Figure size 432x288 with 1 Axes>"
      ]
     },
     "metadata": {
      "needs_background": "light"
     },
     "output_type": "display_data"
    },
    {
     "name": "stdout",
     "output_type": "stream",
     "text": [
      "0      2489527.0\n",
      "1       349215.0\n",
      "2      3342840.0\n",
      "3      1506295.0\n",
      "4     19334329.0\n",
      "5      2630239.0\n",
      "6      2630239.0\n",
      "7      1841615.0\n",
      "8       478041.0\n",
      "9       340810.0\n",
      "10    10045763.0\n",
      "11     5123362.0\n",
      "12     5123362.0\n",
      "13      696428.0\n",
      "14      806083.0\n",
      "15     6556862.0\n",
      "16     3333382.0\n",
      "17     1558931.0\n",
      "18     1558931.0\n",
      "19     1453125.0\n",
      "20     2233145.0\n",
      "21     2364097.0\n",
      "22      679019.0\n",
      "23           NaN\n",
      "24           NaN\n",
      "25     3455936.0\n",
      "26     5038598.0\n",
      "27     2727005.0\n",
      "28     1536358.0\n",
      "29     3081445.0\n",
      "30     3081445.0\n",
      "31           NaN\n",
      "32      939759.0\n",
      "33     1390901.0\n",
      "34      670717.0\n",
      "35     4561386.0\n",
      "36     4561386.0\n",
      "37     1051703.0\n",
      "38    10131373.0\n",
      "39     5049925.0\n",
      "40      353677.0\n",
      "41     5913084.0\n",
      "42     5913084.0\n",
      "43     1942789.0\n",
      "44     1990780.0\n",
      "45     6534215.0\n",
      "46     1869213.0\n",
      "47      543273.0\n",
      "48      543273.0\n",
      "49     2455167.0\n",
      "50      419713.0\n",
      "51     3331859.0\n",
      "52    13367298.0\n",
      "53     1444150.0\n",
      "54     1444150.0\n",
      "55      318031.0\n",
      "56     4195682.0\n",
      "57     3497739.0\n",
      "58      937789.0\n",
      "59     2890732.0\n",
      "Name: Women, dtype: float64\n"
     ]
    },
    {
     "data": {
      "text/plain": [
       "<Figure size 432x288 with 0 Axes>"
      ]
     },
     "metadata": {},
     "output_type": "display_data"
    }
   ],
   "source": [
    "#Plot Women's income\n",
    "plt.scatter(us_census.Women, us_census.Income)\n",
    "plt.xlabel('Women')\n",
    "plt.ylabel('Income')\n",
    "plt.show() \n",
    "plt.clf()\n",
    "print(us_census['Women'])"
   ]
  },
  {
   "cell_type": "code",
   "execution_count": 26,
   "id": "15de4f61",
   "metadata": {},
   "outputs": [
    {
     "name": "stdout",
     "output_type": "stream",
     "text": [
      "0      2489527.0\n",
      "1       349215.0\n",
      "2      3342840.0\n",
      "3      1506295.0\n",
      "4     19334329.0\n",
      "5      2630239.0\n",
      "6      2630239.0\n",
      "7      1841615.0\n",
      "8       478041.0\n",
      "9       340810.0\n",
      "10    10045763.0\n",
      "11     5123362.0\n",
      "12     5123362.0\n",
      "13      696428.0\n",
      "14      806083.0\n",
      "15     6556862.0\n",
      "16     3333382.0\n",
      "17     1558931.0\n",
      "18     1558931.0\n",
      "19     1453125.0\n",
      "20     2233145.0\n",
      "21     2364097.0\n",
      "22      679019.0\n",
      "23     3057895.0\n",
      "24     3057895.0\n",
      "25     3455936.0\n",
      "26     5038598.0\n",
      "27     2727005.0\n",
      "28     1536358.0\n",
      "29     3081445.0\n",
      "30     3081445.0\n",
      "31      504536.0\n",
      "32      939759.0\n",
      "33     1390901.0\n",
      "34      670717.0\n",
      "35     4561386.0\n",
      "36     4561386.0\n",
      "37     1051703.0\n",
      "38    10131373.0\n",
      "39     5049925.0\n",
      "40      353677.0\n",
      "41     5913084.0\n",
      "42     5913084.0\n",
      "43     1942789.0\n",
      "44     1990780.0\n",
      "45     6534215.0\n",
      "46     1869213.0\n",
      "47      543273.0\n",
      "48      543273.0\n",
      "49     2455167.0\n",
      "50      419713.0\n",
      "51     3331859.0\n",
      "52    13367298.0\n",
      "53     1444150.0\n",
      "54     1444150.0\n",
      "55      318031.0\n",
      "56     4195682.0\n",
      "57     3497739.0\n",
      "58      937789.0\n",
      "59     2890732.0\n",
      "Name: Women, dtype: float64\n",
      "0     False\n",
      "1     False\n",
      "2     False\n",
      "3     False\n",
      "4     False\n",
      "5     False\n",
      "6      True\n",
      "7     False\n",
      "8     False\n",
      "9     False\n",
      "10    False\n",
      "11    False\n",
      "12     True\n",
      "13    False\n",
      "14    False\n",
      "15    False\n",
      "16    False\n",
      "17    False\n",
      "18     True\n",
      "19    False\n",
      "20    False\n",
      "21    False\n",
      "22    False\n",
      "23    False\n",
      "24     True\n",
      "25    False\n",
      "26    False\n",
      "27    False\n",
      "28    False\n",
      "29    False\n",
      "30     True\n",
      "31    False\n",
      "32    False\n",
      "33    False\n",
      "34    False\n",
      "35    False\n",
      "36     True\n",
      "37    False\n",
      "38    False\n",
      "39    False\n",
      "40    False\n",
      "41    False\n",
      "42     True\n",
      "43    False\n",
      "44    False\n",
      "45    False\n",
      "46    False\n",
      "47    False\n",
      "48     True\n",
      "49    False\n",
      "50    False\n",
      "51    False\n",
      "52    False\n",
      "53    False\n",
      "54     True\n",
      "55    False\n",
      "56    False\n",
      "57    False\n",
      "58    False\n",
      "59    False\n",
      "dtype: bool\n"
     ]
    }
   ],
   "source": [
    "#Replace the Women's Nan's values with the difference between TotalPop minus the Men's population\n",
    "us_census['Women'] = us_census['Women'].fillna(us_census.TotalPop - us_census.Men)\n",
    "print(us_census['Women'])\n",
    "\n",
    "print(us_census.duplicated())"
   ]
  },
  {
   "cell_type": "code",
   "execution_count": 27,
   "id": "1e7696dc",
   "metadata": {},
   "outputs": [],
   "source": [
    "# Remove suplicates I've had to drop a useless column before to be able to do this.\n",
    "clean_us_census = us_census.drop_duplicates()"
   ]
  },
  {
   "cell_type": "code",
   "execution_count": 28,
   "id": "ba8d5054",
   "metadata": {},
   "outputs": [
    {
     "data": {
      "image/png": "[encoded data removed]",
      "text/plain": [
       "<Figure size 432x288 with 1 Axes>"
      ]
     },
     "metadata": {
      "needs_background": "light"
     },
     "output_type": "display_data"
    },
    {
     "name": "stdout",
     "output_type": "stream",
     "text": [
      "Index(['State', 'TotalPop', 'Hispanic', 'White', 'Black', 'Native', 'Asian',\n",
      "       'Pacific', 'Income', 'GenderPop', 'Men', 'Women'],\n",
      "      dtype='object')\n"
     ]
    },
    {
     "data": {
      "text/plain": [
       "<Figure size 432x288 with 0 Axes>"
      ]
     },
     "metadata": {},
     "output_type": "display_data"
    }
   ],
   "source": [
    "# Plot WOmen's income again with clean data\n",
    "plt.scatter(clean_us_census.Women, clean_us_census.Income)\n",
    "plt.xlabel('Women')\n",
    "plt.ylabel('Income')\n",
    "plt.show() \n",
    "plt.clf()\n",
    "print(clean_us_census.columns)"
   ]
  },
  {
   "cell_type": "code",
   "execution_count": 30,
   "id": "32e28b66",
   "metadata": {},
   "outputs": [],
   "source": [
    "#Create a function to clean column data. Replace a string and convert into a number.\n",
    "def clean_column(df, columns, string):\n",
    "  for column in columns:\n",
    "    df[column] = df[column].replace(string, '', regex=True)\n",
    "    df[column] = pd.to_numeric(df[column])\n",
    "  return df"
   ]
  },
  {
   "cell_type": "code",
   "execution_count": 31,
   "id": "234e4031",
   "metadata": {},
   "outputs": [
    {
     "name": "stdout",
     "output_type": "stream",
     "text": [
      "                   State  TotalPop   Hispanic      White      Black  \\\n",
      "0                Alabama   4830620   3.751616  61.878656  31.252976   \n",
      "1                 Alaska    733375   5.909581  60.910180   2.848503   \n",
      "2                Arizona   6641928  29.565921  57.120000   3.850987   \n",
      "3               Arkansas   2958208   6.215474  71.137810  18.968759   \n",
      "4             California  38421464  37.291875  40.215789   5.677396   \n",
      "5               Colorado   5278906  20.784380  69.895572   3.546377   \n",
      "7            Connecticut   3593222  15.604831  67.677053  10.348068   \n",
      "8               Delaware    926454   8.824766  64.632710  20.743925   \n",
      "9   District of Columbia    647484   9.165922  33.103911  51.776536   \n",
      "10               Florida  19645772  21.338543  59.083749  15.165676   \n",
      "11               Georgia  10006693   8.418242  54.286306  32.088298   \n",
      "13                Hawaii   1406299   9.186709  25.032278   2.052848   \n",
      "14                 Idaho   1616547  11.505369  83.136242   0.566779   \n",
      "15              Illinois  12873761  15.601734  60.859807  17.108411   \n",
      "16               Indiana   6568645   6.536744  78.431894  11.186977   \n",
      "17                  Iowa   3093526   5.303645  87.719684   3.256987   \n",
      "19                Kansas   2892987  11.644342  75.958289   6.567895   \n",
      "20              Kentucky   4397353   3.222994  85.230748   8.272317   \n",
      "21             Louisiana   4625253   4.866489  54.978546  36.326241   \n",
      "22                 Maine   1329100   1.431909  93.707407   1.134473   \n",
      "23              Maryland   5930538   8.472498  52.679050  30.677754   \n",
      "25         Massachusetts   6705586  11.461066  73.041052   6.833128   \n",
      "26              Michigan   9900571   4.634993  72.381722  17.633103   \n",
      "27             Minnesota   5419171   5.152924  81.427061   5.659820   \n",
      "28           Mississippi   2988081   2.842401  53.286322  41.491945   \n",
      "29              Missouri   6045448   4.037248  77.508069  14.122118   \n",
      "31               Montana   1014699   3.268889  86.415556   0.429259   \n",
      "32              Nebraska   1869365   9.203759  81.139474   4.956203   \n",
      "33                Nevada   2798636  27.100884  53.239323   7.739617   \n",
      "34         New Hampshire   1324201   3.321918  91.319178   1.227740   \n",
      "35            New Jersey   8904413  18.749500  56.488761  14.387862   \n",
      "37            New Mexico   2084117  45.282932  40.697992   1.755020   \n",
      "38              New York  19673174  17.241425  56.470105  15.668046   \n",
      "39        North Carolina   9845333   8.464763  64.597651  21.395117   \n",
      "40          North Dakota    721640   2.832683  87.448293   1.284390   \n",
      "41                  Ohio  11575977   3.672084  75.903060  16.207276   \n",
      "43              Oklahoma   3849733  10.079904  66.059426   8.314737   \n",
      "44                Oregon   3939233  11.441212  78.395515   1.730788   \n",
      "45          Pennsylvania  12779559   6.128014  77.383854  11.633948   \n",
      "46           Puerto Rico   3583073  98.893574   0.773619   0.092559   \n",
      "47          Rhode Island   1053661  13.356667  74.325417   5.682917   \n",
      "49        South Carolina   4777576   5.056685  62.888736  28.750916   \n",
      "50          South Dakota    843190   3.239640  82.500901   1.423874   \n",
      "51             Tennessee   6499615   4.720027  73.490088  18.283817   \n",
      "52                 Texas  26538614  38.046738  44.687909  11.650048   \n",
      "53                  Utah   2903379  13.468376  79.406838   1.017949   \n",
      "55               Vermont    626604   1.609290  93.983060   0.980874   \n",
      "56              Virginia   8256630   8.011016  63.271048  20.175998   \n",
      "57            Washington   6985464  11.140969  72.038408   3.384429   \n",
      "58         West Virginia   1851420   1.290909  92.176240   3.662810   \n",
      "59             Wisconsin   5742117   6.683333  79.864009   8.195187   \n",
      "\n",
      "       Native      Asian   Pacific        Income            GenderPop  \\\n",
      "0    0.453231   1.050255  0.034354  43296.358603    2341093M_2489527F   \n",
      "1   16.391018   5.450299  1.058683  70354.743902      384160M_349215F   \n",
      "2    4.355066   2.876579  0.167632  54207.820955    3299088M_3342840F   \n",
      "3    0.522920   1.142336  0.146861  41935.633968    1451913M_1506295F   \n",
      "4    0.405292  13.052234  0.351410  67264.782303  19087135M_19334329F   \n",
      "5    0.573833   2.661997  3.111675  64657.801787    2648667M_2630239F   \n",
      "7    0.126208   4.021981  0.018599  76146.560588    1751607M_1841615F   \n",
      "8    0.259813   3.268692  2.529907  61827.976636      448413M_478041F   \n",
      "9    0.200559   3.383240  0.029609  75466.363636      306674M_340810F   \n",
      "10   0.210451   2.283174  0.051510  50690.194987   9600009M_10045763F   \n",
      "11   0.187583   3.097649  0.046602  50811.082051    4883331M_5123362F   \n",
      "13   0.144937  36.592089  8.758861  73264.426282      709871M_696428F   \n",
      "14   1.468121   1.135906  0.127181  48017.315436      810464M_806083F   \n",
      "15   0.118427   4.475377  0.020032  59587.048875    6316899M_6556862F   \n",
      "16   0.194086   1.578272  0.032625  48616.227848    3235263M_3333382F   \n",
      "17   0.289793   1.699392  0.055164  53017.753041    1534595M_1558931F   \n",
      "19   0.733947   2.331053  3.498421  53885.612648    1439862M_1453125F   \n",
      "20   0.166637   1.129847  0.046438  45285.802536    2164208M_2233145F   \n",
      "21   0.484309   1.669060  0.039184  44957.993761    2261156M_2364097F   \n",
      "22   0.788319   0.965812  0.015670  49181.974359      650081M_679019F   \n",
      "23   0.203096   5.325414  0.036285  78765.400725           2872643M_F   \n",
      "25   0.128279   5.835656  0.019809  72838.936726    3249650M_3455936F   \n",
      "26   0.484411   2.423110  0.019549  51201.830037    4861973M_5038598F   \n",
      "27   1.069040   4.156072  0.032909  62820.833959    2692166M_2727005F   \n",
      "28   0.389970   0.876444  0.015046  38909.919207    1451723M_1536358F   \n",
      "29   0.363329   1.624496  0.101657  49763.987726    2964003M_3081445F   \n",
      "31   7.060741   0.570370  0.072222  47645.682836            510163M_F   \n",
      "32   0.864474   1.859023  0.057143  55916.469697      929606M_939759F   \n",
      "33   1.087187   7.095729  0.574521  55526.525074    1407735M_1390901F   \n",
      "34   0.142808   2.191438  0.016096  68728.859589      653484M_670717F   \n",
      "35   0.115335   8.159990  0.031319  76581.083417    4343027M_4561386F   \n",
      "37   9.248594   1.234337  0.042771  47329.967871    1032414M_1051703F   \n",
      "38   0.321639   7.897159  0.023451  64290.749113   9541801M_10131373F   \n",
      "39   1.085491   2.317457  0.052326  49937.464137    4795408M_5049925F   \n",
      "40   5.651220   0.961951  7.472683  58188.112195      367963M_353677F   \n",
      "41   0.168888   1.621081  0.022645  49655.248466    5662893M_5913084F   \n",
      "43   6.716842   1.801148  0.106220  48100.854267    1906944M_1942789F   \n",
      "44   1.000242   3.594909  0.345333  54271.901818    1948453M_1990780F   \n",
      "45   0.119269   2.797751  0.019394  56170.464510    6245344M_6534215F   \n",
      "46   0.002818   0.075197  0.001240  20720.538286    1713860M_1869213F   \n",
      "47   0.346250   3.247500  0.035833  59125.270833      510388M_543273F   \n",
      "49   0.292399   1.249176  0.046978  46296.807763    2322409M_2455167F   \n",
      "50   9.417568   1.019369  0.041892  51805.405405      423477M_419713F   \n",
      "51   0.226635   1.407283  0.043156  47328.083617    3167756M_3331859F   \n",
      "52   0.261144   3.669696  0.068816  55874.522601  13171316M_13367298F   \n",
      "53   1.081368   2.196068  0.825983  63488.917808    1459229M_1444150F   \n",
      "55   0.301639   1.238798  0.030601  55602.967213      308573M_318031F   \n",
      "56   0.212453   5.455242  0.064715  72866.013412    4060948M_4195682F   \n",
      "57   1.410727   7.022007  0.609896  64493.767684    3487725M_3497739F   \n",
      "58   0.152686   0.682438  0.026446  41437.111570      913631M_937789F   \n",
      "59   0.953664   2.404239  0.020833  53898.889209    2851385M_2890732F   \n",
      "\n",
      "         Men       Women  \n",
      "0    2341093   2489527.0  \n",
      "1     384160    349215.0  \n",
      "2    3299088   3342840.0  \n",
      "3    1451913   1506295.0  \n",
      "4   19087135  19334329.0  \n",
      "5    2648667   2630239.0  \n",
      "7    1751607   1841615.0  \n",
      "8     448413    478041.0  \n",
      "9     306674    340810.0  \n",
      "10   9600009  10045763.0  \n",
      "11   4883331   5123362.0  \n",
      "13    709871    696428.0  \n",
      "14    810464    806083.0  \n",
      "15   6316899   6556862.0  \n",
      "16   3235263   3333382.0  \n",
      "17   1534595   1558931.0  \n",
      "19   1439862   1453125.0  \n",
      "20   2164208   2233145.0  \n",
      "21   2261156   2364097.0  \n",
      "22    650081    679019.0  \n",
      "23   2872643   3057895.0  \n",
      "25   3249650   3455936.0  \n",
      "26   4861973   5038598.0  \n",
      "27   2692166   2727005.0  \n",
      "28   1451723   1536358.0  \n",
      "29   2964003   3081445.0  \n",
      "31    510163    504536.0  \n",
      "32    929606    939759.0  \n",
      "33   1407735   1390901.0  \n",
      "34    653484    670717.0  \n",
      "35   4343027   4561386.0  \n",
      "37   1032414   1051703.0  \n",
      "38   9541801  10131373.0  \n",
      "39   4795408   5049925.0  \n",
      "40    367963    353677.0  \n",
      "41   5662893   5913084.0  \n",
      "43   1906944   1942789.0  \n",
      "44   1948453   1990780.0  \n",
      "45   6245344   6534215.0  \n",
      "46   1713860   1869213.0  \n",
      "47    510388    543273.0  \n",
      "49   2322409   2455167.0  \n",
      "50    423477    419713.0  \n",
      "51   3167756   3331859.0  \n",
      "52  13171316  13367298.0  \n",
      "53   1459229   1444150.0  \n",
      "55    308573    318031.0  \n",
      "56   4060948   4195682.0  \n",
      "57   3487725   3497739.0  \n",
      "58    913631    937789.0  \n",
      "59   2851385   2890732.0  \n"
     ]
    },
    {
     "name": "stderr",
     "output_type": "stream",
     "text": [
      "C:\\Anaconda3\\lib\\site-packages\\ipykernel_launcher.py:4: SettingWithCopyWarning: \n",
      "A value is trying to be set on a copy of a slice from a DataFrame.\n",
      "Try using .loc[row_indexer,col_indexer] = value instead\n",
      "\n",
      "See the caveats in the documentation: https://pandas.pydata.org/pandas-docs/stable/user_guide/indexing.html#returning-a-view-versus-a-copy\n",
      "  after removing the cwd from sys.path.\n",
      "C:\\Anaconda3\\lib\\site-packages\\ipykernel_launcher.py:5: SettingWithCopyWarning: \n",
      "A value is trying to be set on a copy of a slice from a DataFrame.\n",
      "Try using .loc[row_indexer,col_indexer] = value instead\n",
      "\n",
      "See the caveats in the documentation: https://pandas.pydata.org/pandas-docs/stable/user_guide/indexing.html#returning-a-view-versus-a-copy\n",
      "  \"\"\"\n",
      "C:\\Anaconda3\\lib\\site-packages\\ipykernel_launcher.py:11: SettingWithCopyWarning: \n",
      "A value is trying to be set on a copy of a slice from a DataFrame.\n",
      "Try using .loc[row_indexer,col_indexer] = value instead\n",
      "\n",
      "See the caveats in the documentation: https://pandas.pydata.org/pandas-docs/stable/user_guide/indexing.html#returning-a-view-versus-a-copy\n",
      "  # This is added back by InteractiveShellApp.init_path()\n"
     ]
    }
   ],
   "source": [
    "# Create a list of races or PC Ehtnicities to clean the data for  \n",
    "columns = ['Hispanic', 'White', 'Black', 'Native', 'Asian', 'Pacific']\n",
    "\n",
    "# Call function to clean data\n",
    "clean_us_census = clean_column(clean_us_census, columns, '[\\%,]')\n",
    "\n",
    "#Calculate the missing Pacific ehtnic data\n",
    "nan_pacific = 100 - clean_us_census.White - clean_us_census.Hispanic - clean_us_census.Black - clean_us_census.Asian\n",
    "\n",
    "# Replace the Pacific ehtnicity % with real data\n",
    "clean_us_census['Pacific'] = clean_us_census.Pacific.fillna(value=nan_pacific)\n",
    "\n",
    "# Drop duplicates just in case\n",
    "final_us_census = clean_us_census.drop_duplicates()\n",
    "print(final_us_census)"
   ]
  },
  {
   "cell_type": "code",
   "execution_count": 32,
   "id": "31a7b1cd",
   "metadata": {},
   "outputs": [],
   "source": [
    "#Create function to plot different columns\n",
    "def print_histogram(df, columns):\n",
    "  for column in columns:\n",
    "    plt.hist(df[column])\n",
    "    plt.title('Figure : ' + column)\n",
    "    plt.show()\n",
    "    plt.clf()"
   ]
  },
  {
   "cell_type": "code",
   "execution_count": 33,
   "id": "1e85b4b3",
   "metadata": {},
   "outputs": [
    {
     "data": {
      "image/png": "[encoded data removed]",
      "text/plain": [
       "<Figure size 432x288 with 1 Axes>"
      ]
     },
     "metadata": {
      "needs_background": "light"
     },
     "output_type": "display_data"
    },
    {
     "data": {
      "image/png": "[encoded data removed]",
      "text/plain": [
       "<Figure size 432x288 with 1 Axes>"
      ]
     },
     "metadata": {
      "needs_background": "light"
     },
     "output_type": "display_data"
    },
    {
     "data": {
      "image/png": "[encoded data removed]",
      "text/plain": [
       "<Figure size 432x288 with 1 Axes>"
      ]
     },
     "metadata": {
      "needs_background": "light"
     },
     "output_type": "display_data"
    },
    {
     "data": {
      "image/png": "[encoded data removed]",
      "text/plain": [
       "<Figure size 432x288 with 1 Axes>"
      ]
     },
     "metadata": {
      "needs_background": "light"
     },
     "output_type": "display_data"
    },
    {
     "data": {
      "image/png": "[encoded data removed]",
      "text/plain": [
       "<Figure size 432x288 with 1 Axes>"
      ]
     },
     "metadata": {
      "needs_background": "light"
     },
     "output_type": "display_data"
    },
    {
     "data": {
      "image/png": "[encoded data removed]",
      "text/plain": [
       "<Figure size 432x288 with 1 Axes>"
      ]
     },
     "metadata": {
      "needs_background": "light"
     },
     "output_type": "display_data"
    },
    {
     "data": {
      "text/plain": [
       "<Figure size 432x288 with 0 Axes>"
      ]
     },
     "metadata": {},
     "output_type": "display_data"
    }
   ],
   "source": [
    "# Create a list of columns to plot\n",
    "columns = ['Hispanic', 'White', 'Black', 'Native', 'Asian', 'Pacific']\n",
    "\n",
    "# call function to plot a list of columns\n",
    "print_histogram(final_us_census, columns)"
   ]
  },
  {
   "cell_type": "code",
   "execution_count": null,
   "id": "4ee00ecb",
   "metadata": {},
   "outputs": [],
   "source": []
  }
 ],
 "metadata": {
  "kernelspec": {
   "display_name": "Python 3",
   "language": "python",
   "name": "python3"
  },
  "language_info": {
   "codemirror_mode": {
    "name": "ipython",
    "version": 3
   },
   "file_extension": ".py",
   "mimetype": "text/x-python",
   "name": "python",
   "nbconvert_exporter": "python",
   "pygments_lexer": "ipython3",
   "version": "3.7.10"
  }
 },
 "nbformat": 4,
 "nbformat_minor": 5
}
